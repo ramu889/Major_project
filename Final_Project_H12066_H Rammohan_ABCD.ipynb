{
 "cells": [
  {
   "cell_type": "markdown",
   "metadata": {},
   "source": [
    "# Major Project on COVID-19 Pandemic Analysis"
   ]
  },
  {
   "cell_type": "markdown",
   "metadata": {},
   "source": [
    "# Allotted state - Arunachal Pradesh"
   ]
  },
  {
   "cell_type": "markdown",
   "metadata": {},
   "source": [
    "Importing of all packages required for the Project "
   ]
  },
  {
   "cell_type": "code",
   "execution_count": 1,
   "metadata": {},
   "outputs": [],
   "source": [
    "import pandas as pd\n",
    "import seaborn as sns\n",
    "import numpy as np\n",
    "from datetime import date,datetime\n",
    "from matplotlib import pyplot as plt\n",
    "from matplotlib.dates import DateFormatter\n",
    "from sklearn.linear_model import LinearRegression\n",
    "from sklearn.model_selection import train_test_split\n",
    "from sklearn.neighbors import KNeighborsClassifier\n",
    "from sklearn import preprocessing\n",
    "from sklearn.preprocessing import StandardScaler \n",
    "from sklearn.metrics import classification_report,confusion_matrix\n",
    "from sklearn.model_selection import cross_val_score\n",
    "from sklearn import metrics\n",
    "%matplotlib inline"
   ]
  },
  {
   "cell_type": "markdown",
   "metadata": {},
   "source": [
    "# Importing data sets for Question A,B and C"
   ]
  },
  {
   "cell_type": "code",
   "execution_count": 2,
   "metadata": {},
   "outputs": [],
   "source": [
    "df = pd.read_csv(\"state_level_daily.csv\")\n",
    "df1 = pd.read_csv(\"complete.csv\")\n",
    "df2 = pd.read_csv(\"statewise_tested_numbers_data.csv\")\n"
   ]
  },
  {
   "cell_type": "markdown",
   "metadata": {},
   "source": [
    "Preparing data"
   ]
  },
  {
   "cell_type": "code",
   "execution_count": 3,
   "metadata": {},
   "outputs": [],
   "source": [
    "df1=df1.drop([\"New cases\",\"New deaths\",\"New recovered\"],axis=1)\n",
    "df1=df1.rename(columns={\"Name of State / UT\":\"State\",\"Total Confirmed cases\":\"Tot_Cases\",\"Cured/Discharged/Migrated\":\"Recovered\"})\n",
    "df['Date']=pd.to_datetime(df['Date'],format='%d-%b-%y')\n",
    "df1['Date']=pd.to_datetime(df1['Date'],format='%Y-%m-%d')\n",
    "df2['Updated On']=pd.to_datetime(df2['Updated On'],format='%d/%m/%Y')\n",
    "date_from = pd.Timestamp(date(2020,6,1))\n",
    "df_filtered = df[(df['State_Name']==\"Arunachal Pradesh\") & (df['Date']>=date_from) ]\n",
    "df_testing = df2[(df2['State']==\"Arunachal Pradesh\") & (df2['Updated On']>=date_from) ]\n",
    "df_complete = df1[(df1['State']==\"Arunachal Pradesh\") & (df1['Date']>=date_from) ]"
   ]
  },
  {
   "cell_type": "code",
   "execution_count": 4,
   "metadata": {},
   "outputs": [],
   "source": [
    "df_filtered=df_filtered.drop([\"Unnamed: 0\",\"State\"], axis=1)\n",
    "df_testing=df_testing.drop([\"Tag (Total Tested)\",\"Negative\",\"Unconfirmed\",\"Cumulative People In Quarantine\",\"Total People Currently in Quarantine\",\n",
    "                     \"Corona Enquiry Calls\",\"Num Calls State Helpline\",\"Source1\",\"Source2\",\"Unnamed: 22\",\"Test positivity rate\",\"Tests per thousand\",\n",
    "                     \"Tests per million\",\"Tests per positive case\"], axis=1)"
   ]
  },
  {
   "cell_type": "code",
   "execution_count": 5,
   "metadata": {},
   "outputs": [
    {
     "data": {
      "text/html": [
       "<div>\n",
       "<style scoped>\n",
       "    .dataframe tbody tr th:only-of-type {\n",
       "        vertical-align: middle;\n",
       "    }\n",
       "\n",
       "    .dataframe tbody tr th {\n",
       "        vertical-align: top;\n",
       "    }\n",
       "\n",
       "    .dataframe thead th {\n",
       "        text-align: right;\n",
       "    }\n",
       "</style>\n",
       "<table border=\"1\" class=\"dataframe\">\n",
       "  <thead>\n",
       "    <tr style=\"text-align: right;\">\n",
       "      <th></th>\n",
       "      <th>Date</th>\n",
       "      <th>Confirmed</th>\n",
       "      <th>Deceased</th>\n",
       "      <th>Recovered</th>\n",
       "      <th>State_Name</th>\n",
       "    </tr>\n",
       "  </thead>\n",
       "  <tbody>\n",
       "    <tr>\n",
       "      <th>41</th>\n",
       "      <td>2020-07-01</td>\n",
       "      <td>4</td>\n",
       "      <td>0</td>\n",
       "      <td>4</td>\n",
       "      <td>Arunachal Pradesh</td>\n",
       "    </tr>\n",
       "    <tr>\n",
       "      <th>80</th>\n",
       "      <td>2020-06-01</td>\n",
       "      <td>18</td>\n",
       "      <td>0</td>\n",
       "      <td>0</td>\n",
       "      <td>Arunachal Pradesh</td>\n",
       "    </tr>\n",
       "    <tr>\n",
       "      <th>197</th>\n",
       "      <td>2020-07-02</td>\n",
       "      <td>37</td>\n",
       "      <td>0</td>\n",
       "      <td>5</td>\n",
       "      <td>Arunachal Pradesh</td>\n",
       "    </tr>\n",
       "    <tr>\n",
       "      <th>236</th>\n",
       "      <td>2020-06-02</td>\n",
       "      <td>2</td>\n",
       "      <td>0</td>\n",
       "      <td>0</td>\n",
       "      <td>Arunachal Pradesh</td>\n",
       "    </tr>\n",
       "    <tr>\n",
       "      <th>353</th>\n",
       "      <td>2020-07-03</td>\n",
       "      <td>20</td>\n",
       "      <td>0</td>\n",
       "      <td>4</td>\n",
       "      <td>Arunachal Pradesh</td>\n",
       "    </tr>\n",
       "  </tbody>\n",
       "</table>\n",
       "</div>"
      ],
      "text/plain": [
       "          Date  Confirmed  Deceased  Recovered         State_Name\n",
       "41  2020-07-01          4         0          4  Arunachal Pradesh\n",
       "80  2020-06-01         18         0          0  Arunachal Pradesh\n",
       "197 2020-07-02         37         0          5  Arunachal Pradesh\n",
       "236 2020-06-02          2         0          0  Arunachal Pradesh\n",
       "353 2020-07-03         20         0          4  Arunachal Pradesh"
      ]
     },
     "execution_count": 5,
     "metadata": {},
     "output_type": "execute_result"
    }
   ],
   "source": [
    "df_filtered.head()"
   ]
  },
  {
   "cell_type": "code",
   "execution_count": 6,
   "metadata": {},
   "outputs": [
    {
     "data": {
      "text/html": [
       "<div>\n",
       "<style scoped>\n",
       "    .dataframe tbody tr th:only-of-type {\n",
       "        vertical-align: middle;\n",
       "    }\n",
       "\n",
       "    .dataframe tbody tr th {\n",
       "        vertical-align: top;\n",
       "    }\n",
       "\n",
       "    .dataframe thead th {\n",
       "        text-align: right;\n",
       "    }\n",
       "</style>\n",
       "<table border=\"1\" class=\"dataframe\">\n",
       "  <thead>\n",
       "    <tr style=\"text-align: right;\">\n",
       "      <th></th>\n",
       "      <th>Updated On</th>\n",
       "      <th>State</th>\n",
       "      <th>Total Tested</th>\n",
       "      <th>Positive</th>\n",
       "      <th>Tag (People in Quarantine)</th>\n",
       "      <th>Total People Released From Quarantine</th>\n",
       "      <th>People in ICU</th>\n",
       "      <th>People on Ventilators</th>\n",
       "      <th>Num Isolation Beds</th>\n",
       "      <th>Num ICU Beds</th>\n",
       "      <th>Num Ventilators</th>\n",
       "      <th>Total PPE</th>\n",
       "      <th>Total N95 Masks</th>\n",
       "      <th>Population NCP 2019 Projection</th>\n",
       "    </tr>\n",
       "  </thead>\n",
       "  <tbody>\n",
       "    <tr>\n",
       "      <th>195</th>\n",
       "      <td>2020-06-01</td>\n",
       "      <td>Arunachal Pradesh</td>\n",
       "      <td>8768.0</td>\n",
       "      <td>22.0</td>\n",
       "      <td>NaN</td>\n",
       "      <td>NaN</td>\n",
       "      <td>NaN</td>\n",
       "      <td>NaN</td>\n",
       "      <td>NaN</td>\n",
       "      <td>NaN</td>\n",
       "      <td>NaN</td>\n",
       "      <td>NaN</td>\n",
       "      <td>NaN</td>\n",
       "      <td>1504000.0</td>\n",
       "    </tr>\n",
       "    <tr>\n",
       "      <th>196</th>\n",
       "      <td>2020-06-02</td>\n",
       "      <td>Arunachal Pradesh</td>\n",
       "      <td>9079.0</td>\n",
       "      <td>28.0</td>\n",
       "      <td>NaN</td>\n",
       "      <td>NaN</td>\n",
       "      <td>NaN</td>\n",
       "      <td>NaN</td>\n",
       "      <td>NaN</td>\n",
       "      <td>NaN</td>\n",
       "      <td>NaN</td>\n",
       "      <td>NaN</td>\n",
       "      <td>NaN</td>\n",
       "      <td>1504000.0</td>\n",
       "    </tr>\n",
       "    <tr>\n",
       "      <th>197</th>\n",
       "      <td>2020-06-03</td>\n",
       "      <td>Arunachal Pradesh</td>\n",
       "      <td>9551.0</td>\n",
       "      <td>38.0</td>\n",
       "      <td>NaN</td>\n",
       "      <td>NaN</td>\n",
       "      <td>NaN</td>\n",
       "      <td>NaN</td>\n",
       "      <td>NaN</td>\n",
       "      <td>NaN</td>\n",
       "      <td>NaN</td>\n",
       "      <td>NaN</td>\n",
       "      <td>NaN</td>\n",
       "      <td>1504000.0</td>\n",
       "    </tr>\n",
       "    <tr>\n",
       "      <th>198</th>\n",
       "      <td>2020-06-04</td>\n",
       "      <td>Arunachal Pradesh</td>\n",
       "      <td>10025.0</td>\n",
       "      <td>43.0</td>\n",
       "      <td>NaN</td>\n",
       "      <td>NaN</td>\n",
       "      <td>NaN</td>\n",
       "      <td>NaN</td>\n",
       "      <td>NaN</td>\n",
       "      <td>NaN</td>\n",
       "      <td>NaN</td>\n",
       "      <td>NaN</td>\n",
       "      <td>NaN</td>\n",
       "      <td>1504000.0</td>\n",
       "    </tr>\n",
       "    <tr>\n",
       "      <th>199</th>\n",
       "      <td>2020-06-05</td>\n",
       "      <td>Arunachal Pradesh</td>\n",
       "      <td>10790.0</td>\n",
       "      <td>46.0</td>\n",
       "      <td>NaN</td>\n",
       "      <td>NaN</td>\n",
       "      <td>NaN</td>\n",
       "      <td>NaN</td>\n",
       "      <td>NaN</td>\n",
       "      <td>NaN</td>\n",
       "      <td>NaN</td>\n",
       "      <td>NaN</td>\n",
       "      <td>NaN</td>\n",
       "      <td>1504000.0</td>\n",
       "    </tr>\n",
       "  </tbody>\n",
       "</table>\n",
       "</div>"
      ],
      "text/plain": [
       "    Updated On              State  Total Tested  Positive  \\\n",
       "195 2020-06-01  Arunachal Pradesh        8768.0      22.0   \n",
       "196 2020-06-02  Arunachal Pradesh        9079.0      28.0   \n",
       "197 2020-06-03  Arunachal Pradesh        9551.0      38.0   \n",
       "198 2020-06-04  Arunachal Pradesh       10025.0      43.0   \n",
       "199 2020-06-05  Arunachal Pradesh       10790.0      46.0   \n",
       "\n",
       "    Tag (People in Quarantine)  Total People Released From Quarantine  \\\n",
       "195                        NaN                                    NaN   \n",
       "196                        NaN                                    NaN   \n",
       "197                        NaN                                    NaN   \n",
       "198                        NaN                                    NaN   \n",
       "199                        NaN                                    NaN   \n",
       "\n",
       "     People in ICU  People on Ventilators  Num Isolation Beds  Num ICU Beds  \\\n",
       "195            NaN                    NaN                 NaN           NaN   \n",
       "196            NaN                    NaN                 NaN           NaN   \n",
       "197            NaN                    NaN                 NaN           NaN   \n",
       "198            NaN                    NaN                 NaN           NaN   \n",
       "199            NaN                    NaN                 NaN           NaN   \n",
       "\n",
       "     Num Ventilators  Total PPE  Total N95 Masks  \\\n",
       "195              NaN        NaN              NaN   \n",
       "196              NaN        NaN              NaN   \n",
       "197              NaN        NaN              NaN   \n",
       "198              NaN        NaN              NaN   \n",
       "199              NaN        NaN              NaN   \n",
       "\n",
       "     Population NCP 2019 Projection  \n",
       "195                       1504000.0  \n",
       "196                       1504000.0  \n",
       "197                       1504000.0  \n",
       "198                       1504000.0  \n",
       "199                       1504000.0  "
      ]
     },
     "execution_count": 6,
     "metadata": {},
     "output_type": "execute_result"
    }
   ],
   "source": [
    "df_testing.head()"
   ]
  },
  {
   "cell_type": "code",
   "execution_count": 7,
   "metadata": {},
   "outputs": [],
   "source": [
    "df_testing=df_testing.drop([\"Positive\",\"Tag (People in Quarantine)\",\"Total People Released From Quarantine\",\"People in ICU\",\n",
    "                     \"People on Ventilators\",\"Num Isolation Beds\",\"Num ICU Beds\",\"Num Ventilators\",\"Total PPE\",\n",
    "                            \"Total N95 Masks\"], axis=1)\n",
    "df_testing=df_testing.rename(columns={\"Population NCP 2019 Projection\":\"Population\",\"Updated On\":\"Date\",\"Total Tested\":\"Tests\"})\n",
    "df_filtered=df_filtered.rename(columns={\"State_Name\":\"State\"})\n"
   ]
  },
  {
   "cell_type": "code",
   "execution_count": 8,
   "metadata": {},
   "outputs": [
    {
     "data": {
      "text/html": [
       "<div>\n",
       "<style scoped>\n",
       "    .dataframe tbody tr th:only-of-type {\n",
       "        vertical-align: middle;\n",
       "    }\n",
       "\n",
       "    .dataframe tbody tr th {\n",
       "        vertical-align: top;\n",
       "    }\n",
       "\n",
       "    .dataframe thead th {\n",
       "        text-align: right;\n",
       "    }\n",
       "</style>\n",
       "<table border=\"1\" class=\"dataframe\">\n",
       "  <thead>\n",
       "    <tr style=\"text-align: right;\">\n",
       "      <th></th>\n",
       "      <th>Date</th>\n",
       "      <th>State</th>\n",
       "      <th>Tests</th>\n",
       "      <th>Population</th>\n",
       "    </tr>\n",
       "  </thead>\n",
       "  <tbody>\n",
       "    <tr>\n",
       "      <th>195</th>\n",
       "      <td>2020-06-01</td>\n",
       "      <td>Arunachal Pradesh</td>\n",
       "      <td>8768.0</td>\n",
       "      <td>1504000.0</td>\n",
       "    </tr>\n",
       "    <tr>\n",
       "      <th>196</th>\n",
       "      <td>2020-06-02</td>\n",
       "      <td>Arunachal Pradesh</td>\n",
       "      <td>9079.0</td>\n",
       "      <td>1504000.0</td>\n",
       "    </tr>\n",
       "    <tr>\n",
       "      <th>197</th>\n",
       "      <td>2020-06-03</td>\n",
       "      <td>Arunachal Pradesh</td>\n",
       "      <td>9551.0</td>\n",
       "      <td>1504000.0</td>\n",
       "    </tr>\n",
       "    <tr>\n",
       "      <th>198</th>\n",
       "      <td>2020-06-04</td>\n",
       "      <td>Arunachal Pradesh</td>\n",
       "      <td>10025.0</td>\n",
       "      <td>1504000.0</td>\n",
       "    </tr>\n",
       "    <tr>\n",
       "      <th>199</th>\n",
       "      <td>2020-06-05</td>\n",
       "      <td>Arunachal Pradesh</td>\n",
       "      <td>10790.0</td>\n",
       "      <td>1504000.0</td>\n",
       "    </tr>\n",
       "  </tbody>\n",
       "</table>\n",
       "</div>"
      ],
      "text/plain": [
       "          Date              State    Tests  Population\n",
       "195 2020-06-01  Arunachal Pradesh   8768.0   1504000.0\n",
       "196 2020-06-02  Arunachal Pradesh   9079.0   1504000.0\n",
       "197 2020-06-03  Arunachal Pradesh   9551.0   1504000.0\n",
       "198 2020-06-04  Arunachal Pradesh  10025.0   1504000.0\n",
       "199 2020-06-05  Arunachal Pradesh  10790.0   1504000.0"
      ]
     },
     "execution_count": 8,
     "metadata": {},
     "output_type": "execute_result"
    }
   ],
   "source": [
    "df_testing.head()"
   ]
  },
  {
   "cell_type": "code",
   "execution_count": 9,
   "metadata": {},
   "outputs": [
    {
     "data": {
      "text/html": [
       "<div>\n",
       "<style scoped>\n",
       "    .dataframe tbody tr th:only-of-type {\n",
       "        vertical-align: middle;\n",
       "    }\n",
       "\n",
       "    .dataframe tbody tr th {\n",
       "        vertical-align: top;\n",
       "    }\n",
       "\n",
       "    .dataframe thead th {\n",
       "        text-align: right;\n",
       "    }\n",
       "</style>\n",
       "<table border=\"1\" class=\"dataframe\">\n",
       "  <thead>\n",
       "    <tr style=\"text-align: right;\">\n",
       "      <th></th>\n",
       "      <th>Date</th>\n",
       "      <th>Confirmed</th>\n",
       "      <th>Deceased</th>\n",
       "      <th>Recovered</th>\n",
       "      <th>State</th>\n",
       "    </tr>\n",
       "  </thead>\n",
       "  <tbody>\n",
       "    <tr>\n",
       "      <th>41</th>\n",
       "      <td>2020-07-01</td>\n",
       "      <td>4</td>\n",
       "      <td>0</td>\n",
       "      <td>4</td>\n",
       "      <td>Arunachal Pradesh</td>\n",
       "    </tr>\n",
       "    <tr>\n",
       "      <th>80</th>\n",
       "      <td>2020-06-01</td>\n",
       "      <td>18</td>\n",
       "      <td>0</td>\n",
       "      <td>0</td>\n",
       "      <td>Arunachal Pradesh</td>\n",
       "    </tr>\n",
       "    <tr>\n",
       "      <th>197</th>\n",
       "      <td>2020-07-02</td>\n",
       "      <td>37</td>\n",
       "      <td>0</td>\n",
       "      <td>5</td>\n",
       "      <td>Arunachal Pradesh</td>\n",
       "    </tr>\n",
       "    <tr>\n",
       "      <th>236</th>\n",
       "      <td>2020-06-02</td>\n",
       "      <td>2</td>\n",
       "      <td>0</td>\n",
       "      <td>0</td>\n",
       "      <td>Arunachal Pradesh</td>\n",
       "    </tr>\n",
       "    <tr>\n",
       "      <th>353</th>\n",
       "      <td>2020-07-03</td>\n",
       "      <td>20</td>\n",
       "      <td>0</td>\n",
       "      <td>4</td>\n",
       "      <td>Arunachal Pradesh</td>\n",
       "    </tr>\n",
       "  </tbody>\n",
       "</table>\n",
       "</div>"
      ],
      "text/plain": [
       "          Date  Confirmed  Deceased  Recovered              State\n",
       "41  2020-07-01          4         0          4  Arunachal Pradesh\n",
       "80  2020-06-01         18         0          0  Arunachal Pradesh\n",
       "197 2020-07-02         37         0          5  Arunachal Pradesh\n",
       "236 2020-06-02          2         0          0  Arunachal Pradesh\n",
       "353 2020-07-03         20         0          4  Arunachal Pradesh"
      ]
     },
     "execution_count": 9,
     "metadata": {},
     "output_type": "execute_result"
    }
   ],
   "source": [
    "\n",
    "df_filtered.head()"
   ]
  },
  {
   "cell_type": "markdown",
   "metadata": {},
   "source": [
    "Joining of dataframes for consolidated data"
   ]
  },
  {
   "cell_type": "code",
   "execution_count": 10,
   "metadata": {},
   "outputs": [],
   "source": [
    "df_filtered=pd.merge(df_filtered, df_testing, on=['State','Date'] , how='left')\n",
    "df_filtered=pd.merge(df_complete,df_filtered,  on=['State','Date'] , how='left')"
   ]
  },
  {
   "cell_type": "code",
   "execution_count": 11,
   "metadata": {},
   "outputs": [],
   "source": [
    "df_filtered.sort_values(by=['Date'],inplace=True)"
   ]
  },
  {
   "cell_type": "markdown",
   "metadata": {},
   "source": [
    "Caliculating Active cases"
   ]
  },
  {
   "cell_type": "code",
   "execution_count": 12,
   "metadata": {},
   "outputs": [],
   "source": [
    "df_filtered['Active']=df_filtered['Tot_Cases']-df_filtered['Death']-df_filtered['Recovered_x']"
   ]
  },
  {
   "cell_type": "markdown",
   "metadata": {},
   "source": [
    "# Plotting data for present state of Arunachal Pradesh\n",
    "# Question A"
   ]
  },
  {
   "cell_type": "code",
   "execution_count": 13,
   "metadata": {},
   "outputs": [
    {
     "data": {
      "image/png": "[encoded data removed]",
      "text/plain": [
       "<Figure size 864x504 with 1 Axes>"
      ]
     },
     "metadata": {
      "needs_background": "light"
     },
     "output_type": "display_data"
    }
   ],
   "source": [
    "plt.figure(figsize=(12, 7)) \n",
    "plt.plot(df_filtered.Date,df_filtered.Tot_Cases,color='k',label='Total Cases')\n",
    "plt.plot(df_filtered.Date,df_filtered.Recovered_x,color='orange',label='Recovered Cases')\n",
    "plt.plot(df_filtered.Date,df_filtered.Active,color='green',label='Active Cases')\n",
    "plt.plot(df_filtered.Date,df_filtered.Death,color='red',label='Death Cases')\n",
    "plt.xticks(rotation=60)\n",
    "plt.xlabel(\"Date\",labelpad=10,fontsize=20)\n",
    "plt.ylabel(\"Total Number\",labelpad=10,fontsize=20)\n",
    "plt.legend()\n",
    "\n",
    "plt.show()"
   ]
  },
  {
   "cell_type": "markdown",
   "metadata": {},
   "source": [
    "Finding Null values in the dataframe"
   ]
  },
  {
   "cell_type": "code",
   "execution_count": 14,
   "metadata": {},
   "outputs": [],
   "source": [
    "md=df_filtered.isnull()"
   ]
  },
  {
   "cell_type": "code",
   "execution_count": 15,
   "metadata": {},
   "outputs": [
    {
     "name": "stdout",
     "output_type": "stream",
     "text": [
      "Date\n",
      "False    35\n",
      "Name: Date, dtype: int64\n",
      "\n",
      "State\n",
      "False    35\n",
      "Name: State, dtype: int64\n",
      "\n",
      "Latitude\n",
      "False    35\n",
      "Name: Latitude, dtype: int64\n",
      "\n",
      "Longitude\n",
      "False    35\n",
      "Name: Longitude, dtype: int64\n",
      "\n",
      "Tot_Cases\n",
      "False    35\n",
      "Name: Tot_Cases, dtype: int64\n",
      "\n",
      "Death\n",
      "False    35\n",
      "Name: Death, dtype: int64\n",
      "\n",
      "Recovered_x\n",
      "False    35\n",
      "Name: Recovered_x, dtype: int64\n",
      "\n",
      "Confirmed\n",
      "False    34\n",
      "True      1\n",
      "Name: Confirmed, dtype: int64\n",
      "\n",
      "Deceased\n",
      "False    34\n",
      "True      1\n",
      "Name: Deceased, dtype: int64\n",
      "\n",
      "Recovered_y\n",
      "False    34\n",
      "True      1\n",
      "Name: Recovered_y, dtype: int64\n",
      "\n",
      "Tests\n",
      "False    33\n",
      "True      2\n",
      "Name: Tests, dtype: int64\n",
      "\n",
      "Population\n",
      "False    31\n",
      "True      4\n",
      "Name: Population, dtype: int64\n",
      "\n",
      "Active\n",
      "False    35\n",
      "Name: Active, dtype: int64\n",
      "\n"
     ]
    }
   ],
   "source": [
    "for column in md.columns.values.tolist():\n",
    "    print(column)\n",
    "    print (md[column].value_counts())\n",
    "    print(\"\") "
   ]
  },
  {
   "cell_type": "markdown",
   "metadata": {},
   "source": [
    "Finding NaN values in Heatmap using different colour code"
   ]
  },
  {
   "cell_type": "code",
   "execution_count": 16,
   "metadata": {},
   "outputs": [
    {
     "data": {
      "text/plain": [
       "<matplotlib.axes._subplots.AxesSubplot at 0x21684a3d288>"
      ]
     },
     "execution_count": 16,
     "metadata": {},
     "output_type": "execute_result"
    },
    {
     "data": {
      "image/png": "[encoded data removed]",
      "text/plain": [
       "<Figure size 432x288 with 1 Axes>"
      ]
     },
     "metadata": {
      "needs_background": "light"
     },
     "output_type": "display_data"
    }
   ],
   "source": [
    "hm_df=df_filtered.drop([\"Latitude\",\"Longitude\",\"Population\",\"Confirmed\",\"Deceased\",\"Recovered_y\"], axis=1)\n",
    "sns.heatmap(hm_df.isnull(),yticklabels=False,cbar=False,cmap='viridis')\n",
    "\n"
   ]
  },
  {
   "cell_type": "markdown",
   "metadata": {},
   "source": [
    "Replacing NaN values with mean"
   ]
  },
  {
   "cell_type": "code",
   "execution_count": 17,
   "metadata": {},
   "outputs": [],
   "source": [
    "\n",
    "hm_df['Tests'] = hm_df['Tests'].fillna(hm_df['Tests'].mean())\n",
    "\n",
    "#hm_df['Population'] = hm_df['Population'].fillna(hm_df['Population'].mean())"
   ]
  },
  {
   "cell_type": "code",
   "execution_count": 18,
   "metadata": {},
   "outputs": [],
   "source": [
    "fig_size = plt.rcParams[\"figure.figsize\"]\n",
    "fig_size[0] = 15\n",
    "fig_size[1] = 10\n"
   ]
  },
  {
   "cell_type": "markdown",
   "metadata": {},
   "source": [
    "Again Checking for NaN values in the Heatmap"
   ]
  },
  {
   "cell_type": "code",
   "execution_count": 19,
   "metadata": {},
   "outputs": [
    {
     "data": {
      "text/plain": [
       "<matplotlib.axes._subplots.AxesSubplot at 0x21684f0e9c8>"
      ]
     },
     "execution_count": 19,
     "metadata": {},
     "output_type": "execute_result"
    },
    {
     "data": {
      "image/png": "[encoded data removed]",
      "text/plain": [
       "<Figure size 1080x720 with 1 Axes>"
      ]
     },
     "metadata": {
      "needs_background": "light"
     },
     "output_type": "display_data"
    }
   ],
   "source": [
    "sns.heatmap(hm_df.isnull(),yticklabels=False,cbar=False,cmap='viridis')"
   ]
  },
  {
   "cell_type": "markdown",
   "metadata": {},
   "source": [
    "Caliculation Recovery Rate and Mortality Rate and adding both columns to the present Dataframe"
   ]
  },
  {
   "cell_type": "code",
   "execution_count": 20,
   "metadata": {},
   "outputs": [],
   "source": [
    "hm_df['Mor_Rate'] = (hm_df['Death']/hm_df['Tot_Cases']).round(2)\n",
    "hm_df['Rec_Rate'] = (hm_df['Recovered_x']/hm_df['Tot_Cases']).round(2)"
   ]
  },
  {
   "cell_type": "code",
   "execution_count": 21,
   "metadata": {},
   "outputs": [
    {
     "data": {
      "text/plain": [
       "array([[<matplotlib.axes._subplots.AxesSubplot object at 0x0000021684F667C8>,\n",
       "        <matplotlib.axes._subplots.AxesSubplot object at 0x0000021685042C48>,\n",
       "        <matplotlib.axes._subplots.AxesSubplot object at 0x000002168507CB08>],\n",
       "       [<matplotlib.axes._subplots.AxesSubplot object at 0x00000216850B6988>,\n",
       "        <matplotlib.axes._subplots.AxesSubplot object at 0x00000216850EE848>,\n",
       "        <matplotlib.axes._subplots.AxesSubplot object at 0x0000021684AD5A48>],\n",
       "       [<matplotlib.axes._subplots.AxesSubplot object at 0x0000021684AF80C8>,\n",
       "        <matplotlib.axes._subplots.AxesSubplot object at 0x00000216849D8F08>,\n",
       "        <matplotlib.axes._subplots.AxesSubplot object at 0x00000216849D8148>]],\n",
       "      dtype=object)"
      ]
     },
     "execution_count": 21,
     "metadata": {},
     "output_type": "execute_result"
    },
    {
     "data": {
      "image/png": "[encoded data removed]",
      "text/plain": [
       "<Figure size 1080x720 with 9 Axes>"
      ]
     },
     "metadata": {
      "needs_background": "light"
     },
     "output_type": "display_data"
    }
   ],
   "source": [
    "hm_df.head()\n",
    "hm_df.hist()"
   ]
  },
  {
   "cell_type": "markdown",
   "metadata": {},
   "source": [
    "# Cretaing Heatmap  for correlation of data \n",
    "# Question B"
   ]
  },
  {
   "cell_type": "code",
   "execution_count": 22,
   "metadata": {},
   "outputs": [
    {
     "data": {
      "text/plain": [
       "<matplotlib.axes._subplots.AxesSubplot at 0x21684dbca88>"
      ]
     },
     "execution_count": 22,
     "metadata": {},
     "output_type": "execute_result"
    },
    {
     "data": {
      "image/png": "[encoded data removed]",
      "text/plain": [
       "<Figure size 864x504 with 2 Axes>"
      ]
     },
     "metadata": {
      "needs_background": "light"
     },
     "output_type": "display_data"
    }
   ],
   "source": [
    "Var_Corr = hm_df.corr()\n",
    "plt.figure(figsize=(12, 7))    \n",
    "sns.heatmap(Var_Corr, xticklabels=Var_Corr.columns, yticklabels=Var_Corr.columns, annot=True, vmin=-1, vmax=1, center= 0,cmap='Blues')"
   ]
  },
  {
   "cell_type": "markdown",
   "metadata": {},
   "source": [
    "Creating data for Linear Regression"
   ]
  },
  {
   "cell_type": "code",
   "execution_count": 23,
   "metadata": {},
   "outputs": [
    {
     "data": {
      "text/html": [
       "<div>\n",
       "<style scoped>\n",
       "    .dataframe tbody tr th:only-of-type {\n",
       "        vertical-align: middle;\n",
       "    }\n",
       "\n",
       "    .dataframe tbody tr th {\n",
       "        vertical-align: top;\n",
       "    }\n",
       "\n",
       "    .dataframe thead th {\n",
       "        text-align: right;\n",
       "    }\n",
       "</style>\n",
       "<table border=\"1\" class=\"dataframe\">\n",
       "  <thead>\n",
       "    <tr style=\"text-align: right;\">\n",
       "      <th></th>\n",
       "      <th>Date</th>\n",
       "      <th>State</th>\n",
       "      <th>Tot_Cases</th>\n",
       "      <th>Death</th>\n",
       "      <th>Recovered_x</th>\n",
       "      <th>Tests</th>\n",
       "      <th>Active</th>\n",
       "      <th>Mor_Rate</th>\n",
       "      <th>Rec_Rate</th>\n",
       "    </tr>\n",
       "  </thead>\n",
       "  <tbody>\n",
       "    <tr>\n",
       "      <th>0</th>\n",
       "      <td>2020-06-01</td>\n",
       "      <td>Arunachal Pradesh</td>\n",
       "      <td>4</td>\n",
       "      <td>0</td>\n",
       "      <td>1</td>\n",
       "      <td>8768</td>\n",
       "      <td>3</td>\n",
       "      <td>0.0</td>\n",
       "      <td>0.25</td>\n",
       "    </tr>\n",
       "    <tr>\n",
       "      <th>1</th>\n",
       "      <td>2020-06-02</td>\n",
       "      <td>Arunachal Pradesh</td>\n",
       "      <td>22</td>\n",
       "      <td>0</td>\n",
       "      <td>1</td>\n",
       "      <td>9079</td>\n",
       "      <td>21</td>\n",
       "      <td>0.0</td>\n",
       "      <td>0.05</td>\n",
       "    </tr>\n",
       "    <tr>\n",
       "      <th>2</th>\n",
       "      <td>2020-06-03</td>\n",
       "      <td>Arunachal Pradesh</td>\n",
       "      <td>22</td>\n",
       "      <td>0</td>\n",
       "      <td>1</td>\n",
       "      <td>9551</td>\n",
       "      <td>21</td>\n",
       "      <td>0.0</td>\n",
       "      <td>0.05</td>\n",
       "    </tr>\n",
       "    <tr>\n",
       "      <th>3</th>\n",
       "      <td>2020-06-04</td>\n",
       "      <td>Arunachal Pradesh</td>\n",
       "      <td>38</td>\n",
       "      <td>0</td>\n",
       "      <td>1</td>\n",
       "      <td>10025</td>\n",
       "      <td>37</td>\n",
       "      <td>0.0</td>\n",
       "      <td>0.03</td>\n",
       "    </tr>\n",
       "    <tr>\n",
       "      <th>4</th>\n",
       "      <td>2020-06-05</td>\n",
       "      <td>Arunachal Pradesh</td>\n",
       "      <td>42</td>\n",
       "      <td>0</td>\n",
       "      <td>1</td>\n",
       "      <td>10790</td>\n",
       "      <td>41</td>\n",
       "      <td>0.0</td>\n",
       "      <td>0.02</td>\n",
       "    </tr>\n",
       "  </tbody>\n",
       "</table>\n",
       "</div>"
      ],
      "text/plain": [
       "        Date              State  Tot_Cases  Death  Recovered_x  Tests  Active  \\\n",
       "0 2020-06-01  Arunachal Pradesh          4      0            1   8768       3   \n",
       "1 2020-06-02  Arunachal Pradesh         22      0            1   9079      21   \n",
       "2 2020-06-03  Arunachal Pradesh         22      0            1   9551      21   \n",
       "3 2020-06-04  Arunachal Pradesh         38      0            1  10025      37   \n",
       "4 2020-06-05  Arunachal Pradesh         42      0            1  10790      41   \n",
       "\n",
       "   Mor_Rate  Rec_Rate  \n",
       "0       0.0      0.25  \n",
       "1       0.0      0.05  \n",
       "2       0.0      0.05  \n",
       "3       0.0      0.03  \n",
       "4       0.0      0.02  "
      ]
     },
     "execution_count": 23,
     "metadata": {},
     "output_type": "execute_result"
    }
   ],
   "source": [
    "mydataset=hm_df.loc[:,hm_df.columns]\n",
    "mydataset['Tests']=mydataset['Tests'].astype('int')\n",
    "mydataset.head()\n"
   ]
  },
  {
   "cell_type": "markdown",
   "metadata": {},
   "source": [
    "preparing dataframes for X and Y axis"
   ]
  },
  {
   "cell_type": "code",
   "execution_count": 24,
   "metadata": {},
   "outputs": [
    {
     "data": {
      "text/plain": [
       "array([ 8768,  9079,  9551, 10025, 10790, 11261, 11516, 12012, 12455,\n",
       "       13035, 13479, 14047, 14518, 17633, 15453, 16158, 16630, 16630,\n",
       "       18008, 18521, 19154, 19799, 20398, 20938, 21274, 22623, 23011,\n",
       "       23709, 24237, 25440, 25917, 26808, 28072, 28581, 17633])"
      ]
     },
     "execution_count": 24,
     "metadata": {},
     "output_type": "execute_result"
    }
   ],
   "source": [
    "X=mydataset.iloc[:,2].values\n",
    "X=X.reshape(-1,1)\n",
    "Y=mydataset.iloc[:,5].values\n",
    "Y"
   ]
  },
  {
   "cell_type": "code",
   "execution_count": 25,
   "metadata": {},
   "outputs": [],
   "source": [
    "Z=pd.DataFrame(X)\n",
    "W=pd.DataFrame(Y)"
   ]
  },
  {
   "cell_type": "code",
   "execution_count": 26,
   "metadata": {},
   "outputs": [
    {
     "data": {
      "text/plain": [
       "array([ 0,  1,  2,  3,  4,  5,  6,  7,  8,  9, 10, 11, 12, 16, 13, 14, 15,\n",
       "       15, 17, 18, 19, 20, 21, 22, 23, 24, 25, 26, 27, 28, 29, 30, 31, 32,\n",
       "       16], dtype=int64)"
      ]
     },
     "execution_count": 26,
     "metadata": {},
     "output_type": "execute_result"
    }
   ],
   "source": [
    "labelencoder_X=preprocessing.LabelEncoder()\n",
    "Y=labelencoder_X.fit_transform(Y)\n",
    "Y"
   ]
  },
  {
   "cell_type": "markdown",
   "metadata": {},
   "source": [
    "Preparing training data as 80% and test data as 20% for predection"
   ]
  },
  {
   "cell_type": "code",
   "execution_count": 27,
   "metadata": {},
   "outputs": [],
   "source": [
    "X_train,X_test,Y_train,Y_test=train_test_split(X,Y,test_size=0.2)"
   ]
  },
  {
   "cell_type": "code",
   "execution_count": 28,
   "metadata": {},
   "outputs": [],
   "source": [
    "regressor=LinearRegression()"
   ]
  },
  {
   "cell_type": "code",
   "execution_count": 30,
   "metadata": {},
   "outputs": [
    {
     "data": {
      "text/plain": [
       "LinearRegression()"
      ]
     },
     "execution_count": 30,
     "metadata": {},
     "output_type": "execute_result"
    }
   ],
   "source": [
    "regressor.fit(X_train,Y_train)"
   ]
  },
  {
   "cell_type": "code",
   "execution_count": 31,
   "metadata": {},
   "outputs": [
    {
     "data": {
      "text/plain": [
       "array([22.04166148,  9.70953691, 23.36660048,  3.90018898, 13.174762  ,\n",
       "       22.5512534 , 17.25149739])"
      ]
     },
     "execution_count": 31,
     "metadata": {},
     "output_type": "execute_result"
    }
   ],
   "source": [
    "Y_pred=regressor.predict(X_test)\n",
    "Y_pred"
   ]
  },
  {
   "cell_type": "code",
   "execution_count": 32,
   "metadata": {},
   "outputs": [
    {
     "data": {
      "text/plain": [
       "array([ 8.07884275,  7.7730876 ,  5.7347199 ,  5.7347199 ,  8.69035306,\n",
       "       32.74309189, 17.65917093, 12.35941492, 12.76708846, 10.32104722,\n",
       "       17.25149739, 13.58243554, 31.01047935, 29.88937711, 12.76708846,\n",
       "       13.99010908,  9.30186337, 23.36660048, 21.02247763, 18.57643639,\n",
       "        7.36541406,  9.30186337, 19.59562024, 31.62198966, 13.99010908,\n",
       "        8.69035306,  8.28267952, 21.53206956])"
      ]
     },
     "execution_count": 32,
     "metadata": {},
     "output_type": "execute_result"
    }
   ],
   "source": [
    "regressor.predict(X_train)"
   ]
  },
  {
   "cell_type": "code",
   "execution_count": 33,
   "metadata": {},
   "outputs": [
    {
     "data": {
      "text/plain": [
       "array([[ 45],\n",
       "       [ 42],\n",
       "       [ 22],\n",
       "       [ 22],\n",
       "       [ 51],\n",
       "       [287],\n",
       "       [139],\n",
       "       [ 87],\n",
       "       [ 91],\n",
       "       [ 67],\n",
       "       [135],\n",
       "       [ 99],\n",
       "       [270],\n",
       "       [259],\n",
       "       [ 91],\n",
       "       [103],\n",
       "       [ 57],\n",
       "       [195],\n",
       "       [172],\n",
       "       [148],\n",
       "       [ 38],\n",
       "       [ 57],\n",
       "       [158],\n",
       "       [276],\n",
       "       [103],\n",
       "       [ 51],\n",
       "       [ 47],\n",
       "       [177]], dtype=int64)"
      ]
     },
     "execution_count": 33,
     "metadata": {},
     "output_type": "execute_result"
    }
   ],
   "source": [
    "X_train"
   ]
  },
  {
   "cell_type": "markdown",
   "metadata": {},
   "source": [
    "# Linear Regression for Question C"
   ]
  },
  {
   "cell_type": "markdown",
   "metadata": {},
   "source": [
    "Blue line referes prediction line and red dots as training data points\n",
    "Ploting Training data with respect to predection line"
   ]
  },
  {
   "cell_type": "code",
   "execution_count": 34,
   "metadata": {},
   "outputs": [
    {
     "data": {
      "image/png": "[encoded data removed]",
      "text/plain": [
       "<Figure size 1080x720 with 1 Axes>"
      ]
     },
     "metadata": {
      "needs_background": "light"
     },
     "output_type": "display_data"
    }
   ],
   "source": [
    "plt.scatter(X_train,Y_train,color='red')\n",
    "plt.plot(X_train,regressor.predict(X_train),color='blue')\n",
    "plt.title('Tests vs Confirmed (Training Set)',fontsize=18)\n",
    "plt.xlabel('Confirmed Cases',fontsize=18)\n",
    "plt.ylabel('Total Tests',fontsize=18)\n",
    "plt.show()"
   ]
  },
  {
   "cell_type": "markdown",
   "metadata": {},
   "source": [
    "Blue line referes prediction line and red dots as test data points\n",
    "Ploting Test data with respect to predection line"
   ]
  },
  {
   "cell_type": "code",
   "execution_count": 35,
   "metadata": {},
   "outputs": [
    {
     "data": {
      "image/png": "[encoded data removed]",
      "text/plain": [
       "<Figure size 1080x720 with 1 Axes>"
      ]
     },
     "metadata": {
      "needs_background": "light"
     },
     "output_type": "display_data"
    }
   ],
   "source": [
    "plt.scatter(X_test,Y_test,color='red')\n",
    "plt.plot(X_train,regressor.predict(X_train),color='blue')\n",
    "plt.title('Tests vs Confirmed (Testing Set)',fontsize=18)\n",
    "plt.xlabel('Confirmed Cases',fontsize=18)\n",
    "plt.ylabel('Total Tests',fontsize=18)\n",
    "plt.show()"
   ]
  },
  {
   "cell_type": "markdown",
   "metadata": {},
   "source": [
    "Considering 70% as training data and 30% as test data"
   ]
  },
  {
   "cell_type": "code",
   "execution_count": 37,
   "metadata": {},
   "outputs": [],
   "source": [
    "X_train,X_test,Y_train,Y_test=train_test_split(X,Y,test_size=0.3)"
   ]
  },
  {
   "cell_type": "code",
   "execution_count": 38,
   "metadata": {},
   "outputs": [
    {
     "data": {
      "text/plain": [
       "array([ 8.50871054, 22.60843944,  8.10586115, 21.60131594, 14.65216385,\n",
       "       33.18323611, 10.42224518,  9.41512169, 23.91769998, 13.04076626,\n",
       "       13.44361566,  8.81084759, 14.65216385, 18.27780842, 23.91769998,\n",
       "       31.47112617, 17.87495902, 20.19134306, 10.01939578,  6.49446356,\n",
       "       10.01939578, 23.11200118, 32.07540027, 19.18421956])"
      ]
     },
     "execution_count": 38,
     "metadata": {},
     "output_type": "execute_result"
    }
   ],
   "source": [
    "regressor=LinearRegression()\n",
    "regressor.fit(X_train,Y_train)\n",
    "Y_pred=regressor.predict(X_test)\n",
    "Y_pred\n",
    "regressor.predict(X_train)"
   ]
  },
  {
   "cell_type": "code",
   "execution_count": 39,
   "metadata": {},
   "outputs": [
    {
     "data": {
      "image/png": "[encoded data removed]",
      "text/plain": [
       "<Figure size 1080x720 with 1 Axes>"
      ]
     },
     "metadata": {
      "needs_background": "light"
     },
     "output_type": "display_data"
    }
   ],
   "source": [
    "plt.scatter(X_train,Y_train,color='red')\n",
    "plt.plot(X_train,regressor.predict(X_train),color='blue')\n",
    "plt.title('Tests vs Confirmed (Training Set)',fontsize=18)\n",
    "plt.xlabel('Confirmed Cases',fontsize=18)\n",
    "plt.ylabel('Total Tests',fontsize=18)\n",
    "plt.show()"
   ]
  },
  {
   "cell_type": "code",
   "execution_count": 40,
   "metadata": {},
   "outputs": [
    {
     "data": {
      "image/png": "[encoded data removed]",
      "text/plain": [
       "<Figure size 1080x720 with 1 Axes>"
      ]
     },
     "metadata": {
      "needs_background": "light"
     },
     "output_type": "display_data"
    }
   ],
   "source": [
    "plt.scatter(X_test,Y_test,color='red')\n",
    "plt.plot(X_train,regressor.predict(X_train),color='blue')\n",
    "plt.title('Tests vs Confirmed (Testing Set)',fontsize=18)\n",
    "plt.xlabel('Confirmed Cases',fontsize=18)\n",
    "plt.ylabel('Total Tests',fontsize=18)\n",
    "plt.show()"
   ]
  },
  {
   "cell_type": "markdown",
   "metadata": {},
   "source": [
    "# Question D"
   ]
  },
  {
   "cell_type": "code",
   "execution_count": 41,
   "metadata": {},
   "outputs": [],
   "source": [
    "df = pd.read_csv(\"PAML_COVID_Dataset.csv\")"
   ]
  },
  {
   "cell_type": "code",
   "execution_count": 42,
   "metadata": {},
   "outputs": [],
   "source": [
    "df=df.drop([\"Date\",\"Time\",\"State\",\"ConfirmedIndianNational\",\"ConfirmedForeignNational\"],axis=1)\n"
   ]
  },
  {
   "cell_type": "code",
   "execution_count": 43,
   "metadata": {},
   "outputs": [
    {
     "name": "stdout",
     "output_type": "stream",
     "text": [
      "<class 'pandas.core.frame.DataFrame'>\n",
      "RangeIndex: 3135 entries, 0 to 3134\n",
      "Data columns (total 7 columns):\n",
      " #   Column                Non-Null Count  Dtype \n",
      "---  ------                --------------  ----- \n",
      " 0   Gend                  3135 non-null   object\n",
      " 1   Age                   3135 non-null   int64 \n",
      " 2   Serious symptoms      3135 non-null   object\n",
      " 3   Less common symptoms  3135 non-null   object\n",
      " 4   Most common symptoms  3135 non-null   object\n",
      " 5   Severity              3135 non-null   object\n",
      " 6   finalstatus           3135 non-null   object\n",
      "dtypes: int64(1), object(6)\n",
      "memory usage: 171.6+ KB\n"
     ]
    }
   ],
   "source": [
    "df.info()\n",
    "df=df.rename(columns={\"Serious symptoms\":\"SS\",\"Less common symptoms\":\"LCS\",\"Most common symptoms\":\"MCS\",\"Gend\":\"Gender\",\"finalstatus\":\"Status\"})"
   ]
  },
  {
   "cell_type": "code",
   "execution_count": 52,
   "metadata": {},
   "outputs": [],
   "source": [
    "from sklearn.preprocessing import StandardScaler"
   ]
  },
  {
   "cell_type": "code",
   "execution_count": 54,
   "metadata": {},
   "outputs": [
    {
     "data": {
      "text/plain": [
       "StandardScaler()"
      ]
     },
     "execution_count": 54,
     "metadata": {},
     "output_type": "execute_result"
    }
   ],
   "source": [
    "scaler = preprocessing.StandardScaler()\n",
    "scaler.fit(df.drop('Status',axis=1))"
   ]
  },
  {
   "cell_type": "code",
   "execution_count": 55,
   "metadata": {},
   "outputs": [],
   "source": [
    "df['Gender'] = np.where((df.Gender == 'Female'),0,df.Gender)\n",
    "df['Gender'] = np.where((df.Gender == 'Male '),1,df.Gender)\n",
    "\n",
    "df['SS'] = np.where((df.SS == 'sore throat'),0,df.SS)\n",
    "df['SS'] = np.where((df.SS == 'chest pain or pressure'),1,df.SS)\n",
    "df['SS'] = np.where((df.SS == 'difficulty breathing or shortness of breath'),2,df.SS)\n",
    "df['SS'] = np.where((df.SS == 'loss of speech or movement'),3,df.SS)\n",
    "\n",
    "\n",
    "df['LCS'] = np.where((df.LCS == 'loss of speech or movement'),0,df.LCS)\n",
    "df['LCS'] = np.where((df.LCS == 'diarrhoea'),1,df.LCS)\n",
    "df['LCS'] = np.where((df.LCS == 'conjunctivitis'),2,df.LCS)\n",
    "df['LCS'] = np.where((df.LCS == 'headache'),3,df.LCS)\n",
    "df['LCS'] = np.where((df.LCS == 'loss of taste or smell'),4,df.LCS)\n",
    "df['LCS'] = np.where((df.LCS == 'aches and pains'),5,df.LCS)\n",
    "df['LCS'] = np.where((df.LCS == 'a rash on skin, or discolouration of fingers or toes'),6,df.LCS)\n",
    "df['LCS'] = np.where((df.LCS == 'sore throat'),7,df.LCS)\n",
    "\n",
    "df['MCS'] = np.where((df.MCS == 'dry cough'),0,df.MCS)\n",
    "df['MCS'] = np.where((df.MCS == 'fever'),1,df.MCS)\n",
    "df['MCS'] = np.where((df.MCS == 'tiredness'),2,df.MCS)\n",
    "\n",
    "df['Severity'] = np.where((df.Severity == 'Seviour'),0,df.Severity)\n",
    "df['Severity'] = np.where((df.Severity == 'Mild'),1,df.Severity)\n",
    "df['Severity'] = np.where((df.Severity == 'Moderate'),2,df.Severity)\n",
    "\n",
    "df['Status'] = np.where((df.Status == 'Covid'),0,df.Status)\n",
    "df['Status'] = np.where((df.Status == 'flu'),1,df.Status)"
   ]
  },
  {
   "cell_type": "code",
   "execution_count": 56,
   "metadata": {},
   "outputs": [
    {
     "data": {
      "text/plain": [
       "StandardScaler()"
      ]
     },
     "execution_count": 56,
     "metadata": {},
     "output_type": "execute_result"
    }
   ],
   "source": [
    "scaler.fit(df.drop('Status',axis=1))"
   ]
  },
  {
   "cell_type": "code",
   "execution_count": 57,
   "metadata": {},
   "outputs": [],
   "source": [
    "scaled_features = scaler.transform(df.drop('Status',axis=1))"
   ]
  },
  {
   "cell_type": "code",
   "execution_count": 58,
   "metadata": {},
   "outputs": [
    {
     "data": {
      "text/html": [
       "<div>\n",
       "<style scoped>\n",
       "    .dataframe tbody tr th:only-of-type {\n",
       "        vertical-align: middle;\n",
       "    }\n",
       "\n",
       "    .dataframe tbody tr th {\n",
       "        vertical-align: top;\n",
       "    }\n",
       "\n",
       "    .dataframe thead th {\n",
       "        text-align: right;\n",
       "    }\n",
       "</style>\n",
       "<table border=\"1\" class=\"dataframe\">\n",
       "  <thead>\n",
       "    <tr style=\"text-align: right;\">\n",
       "      <th></th>\n",
       "      <th>Gender</th>\n",
       "      <th>Age</th>\n",
       "      <th>SS</th>\n",
       "      <th>LCS</th>\n",
       "      <th>MCS</th>\n",
       "      <th>Severity</th>\n",
       "    </tr>\n",
       "  </thead>\n",
       "  <tbody>\n",
       "    <tr>\n",
       "      <th>0</th>\n",
       "      <td>-1.005437</td>\n",
       "      <td>1.662353</td>\n",
       "      <td>1.213978</td>\n",
       "      <td>1.483579</td>\n",
       "      <td>-1.240529</td>\n",
       "      <td>-1.246614</td>\n",
       "    </tr>\n",
       "    <tr>\n",
       "      <th>1</th>\n",
       "      <td>-1.005437</td>\n",
       "      <td>0.349317</td>\n",
       "      <td>-1.225651</td>\n",
       "      <td>-1.499437</td>\n",
       "      <td>-1.240529</td>\n",
       "      <td>-0.013764</td>\n",
       "    </tr>\n",
       "    <tr>\n",
       "      <th>2</th>\n",
       "      <td>0.994592</td>\n",
       "      <td>0.859942</td>\n",
       "      <td>-0.005836</td>\n",
       "      <td>-1.499437</td>\n",
       "      <td>-0.008645</td>\n",
       "      <td>-0.013764</td>\n",
       "    </tr>\n",
       "    <tr>\n",
       "      <th>3</th>\n",
       "      <td>-1.005437</td>\n",
       "      <td>-0.416621</td>\n",
       "      <td>-1.225651</td>\n",
       "      <td>-1.002268</td>\n",
       "      <td>-1.240529</td>\n",
       "      <td>1.219086</td>\n",
       "    </tr>\n",
       "    <tr>\n",
       "      <th>4</th>\n",
       "      <td>0.994592</td>\n",
       "      <td>-0.817826</td>\n",
       "      <td>-0.005836</td>\n",
       "      <td>-1.499437</td>\n",
       "      <td>-0.008645</td>\n",
       "      <td>-1.246614</td>\n",
       "    </tr>\n",
       "  </tbody>\n",
       "</table>\n",
       "</div>"
      ],
      "text/plain": [
       "     Gender       Age        SS       LCS       MCS  Severity\n",
       "0 -1.005437  1.662353  1.213978  1.483579 -1.240529 -1.246614\n",
       "1 -1.005437  0.349317 -1.225651 -1.499437 -1.240529 -0.013764\n",
       "2  0.994592  0.859942 -0.005836 -1.499437 -0.008645 -0.013764\n",
       "3 -1.005437 -0.416621 -1.225651 -1.002268 -1.240529  1.219086\n",
       "4  0.994592 -0.817826 -0.005836 -1.499437 -0.008645 -1.246614"
      ]
     },
     "execution_count": 58,
     "metadata": {},
     "output_type": "execute_result"
    }
   ],
   "source": [
    "df_feat = pd.DataFrame(scaled_features,columns=df.columns[:-1])\n",
    "df_feat.head()"
   ]
  },
  {
   "cell_type": "code",
   "execution_count": 59,
   "metadata": {},
   "outputs": [
    {
     "data": {
      "text/plain": [
       "array([[0],\n",
       "       [1],\n",
       "       [1],\n",
       "       [1],\n",
       "       [0]])"
      ]
     },
     "execution_count": 59,
     "metadata": {},
     "output_type": "execute_result"
    }
   ],
   "source": [
    "X = df_feat[[\"Gender\",\"Age\",\"SS\",\"LCS\",\"MCS\",\"Severity\"]] .values  \n",
    "X[0:5]\n",
    "Y=df[[\"Status\"]] .values \n",
    "Y=Y.astype('int')\n",
    "Y[0:5]\n",
    "X = preprocessing.StandardScaler().fit(X).transform(X.astype(float))\n",
    "X[0:5]\n",
    "Y[0:5]"
   ]
  },
  {
   "cell_type": "code",
   "execution_count": 60,
   "metadata": {},
   "outputs": [],
   "source": [
    "X_train, X_test, Y_train, Y_test = train_test_split(X,Y,\n",
    "                                                    test_size=0.30, random_state=2)"
   ]
  },
  {
   "cell_type": "code",
   "execution_count": 61,
   "metadata": {},
   "outputs": [],
   "source": [
    "knn = KNeighborsClassifier(n_neighbors=1)"
   ]
  },
  {
   "cell_type": "code",
   "execution_count": 62,
   "metadata": {},
   "outputs": [
    {
     "data": {
      "text/plain": [
       "KNeighborsClassifier(n_neighbors=1)"
      ]
     },
     "execution_count": 62,
     "metadata": {},
     "output_type": "execute_result"
    }
   ],
   "source": [
    "knn.fit(X_train,Y_train.ravel())"
   ]
  },
  {
   "cell_type": "code",
   "execution_count": 63,
   "metadata": {},
   "outputs": [],
   "source": [
    "pred = knn.predict(X_test)"
   ]
  },
  {
   "cell_type": "code",
   "execution_count": 64,
   "metadata": {},
   "outputs": [
    {
     "name": "stdout",
     "output_type": "stream",
     "text": [
      "[[226 241]\n",
      " [215 259]]\n"
     ]
    }
   ],
   "source": [
    "print(confusion_matrix(Y_test,pred))"
   ]
  },
  {
   "cell_type": "code",
   "execution_count": 65,
   "metadata": {},
   "outputs": [
    {
     "name": "stdout",
     "output_type": "stream",
     "text": [
      "              precision    recall  f1-score   support\n",
      "\n",
      "           0       0.51      0.48      0.50       467\n",
      "           1       0.52      0.55      0.53       474\n",
      "\n",
      "    accuracy                           0.52       941\n",
      "   macro avg       0.52      0.52      0.51       941\n",
      "weighted avg       0.52      0.52      0.51       941\n",
      "\n"
     ]
    }
   ],
   "source": [
    "print(classification_report(Y_test,pred))"
   ]
  },
  {
   "cell_type": "code",
   "execution_count": 66,
   "metadata": {},
   "outputs": [
    {
     "name": "stdout",
     "output_type": "stream",
     "text": [
      "WITH K=1\n",
      "\n",
      "\n",
      "[[226 241]\n",
      " [215 259]]\n",
      "\n",
      "\n",
      "              precision    recall  f1-score   support\n",
      "\n",
      "           0       0.51      0.48      0.50       467\n",
      "           1       0.52      0.55      0.53       474\n",
      "\n",
      "    accuracy                           0.52       941\n",
      "   macro avg       0.52      0.52      0.51       941\n",
      "weighted avg       0.52      0.52      0.51       941\n",
      "\n"
     ]
    },
    {
     "name": "stderr",
     "output_type": "stream",
     "text": [
      "F:\\Anaconda3\\lib\\site-packages\\ipykernel_launcher.py:3: DataConversionWarning: A column-vector y was passed when a 1d array was expected. Please change the shape of y to (n_samples, ), for example using ravel().\n",
      "  This is separate from the ipykernel package so we can avoid doing imports until\n"
     ]
    }
   ],
   "source": [
    "\n",
    "knn = KNeighborsClassifier(n_neighbors=1)\n",
    "\n",
    "knn.fit(X_train,Y_train)\n",
    "pred = knn.predict(X_test)\n",
    "\n",
    "print('WITH K=1')\n",
    "print('\\n')\n",
    "print(confusion_matrix(Y_test,pred))\n",
    "print('\\n')\n",
    "print(classification_report(Y_test,pred))"
   ]
  },
  {
   "cell_type": "code",
   "execution_count": null,
   "metadata": {},
   "outputs": [],
   "source": []
  },
  {
   "cell_type": "markdown",
   "metadata": {},
   "source": [
    "# Dataset Source:- https://api.covid19india.org/csv/ , https://github.com/imdevskp/covid-19-india-data and https://www.kaggle.com/sudalairajkumar/covid19-in-india\n",
    "\n",
    "# By H Rammohan"
   ]
  },
  {
   "cell_type": "code",
   "execution_count": null,
   "metadata": {},
   "outputs": [],
   "source": []
  }
 ],
 "metadata": {
  "kernelspec": {
   "display_name": "Python 3",
   "language": "python",
   "name": "python3"
  },
  "language_info": {
   "codemirror_mode": {
    "name": "ipython",
    "version": 3
   },
   "file_extension": ".py",
   "mimetype": "text/x-python",
   "name": "python",
   "nbconvert_exporter": "python",
   "pygments_lexer": "ipython3",
   "version": "3.7.6"
  }
 },
 "nbformat": 4,
 "nbformat_minor": 4
}
